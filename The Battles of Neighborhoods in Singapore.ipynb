{
 "cells": [
  {
   "cell_type": "markdown",
   "metadata": {},
   "source": [
    "## Acquaring and Loading Data"
   ]
  },
  {
   "cell_type": "markdown",
   "metadata": {},
   "source": [
    "Presenting the code and methods for acquiring the data. Loading the data into appropriate format for analysis. Explaining the process and results"
   ]
  },
  {
   "cell_type": "code",
   "execution_count": null,
   "metadata": {},
   "outputs": [],
   "source": [
    "import requests # library to handle requests\n",
    "import pandas as pd # library for data analsysis\n",
    "import numpy as np # library to handle data in a vectorized manner\n",
    "import random # library for random number generation\n",
    "import matplotlib.pyplot as plt\n",
    "import matplotlib.image as mpimg\n",
    "%matplotlib inline\n",
    "import seaborn as sns\n",
    "from geopy.geocoders import Nominatim # module to convert an address into latitude and longitude values\n",
    "\n",
    "# libraries for displaying images\n",
    "from IPython.display import Image \n",
    "from IPython.core.display import HTML \n",
    "    \n",
    "# tranforming json file into a pandas dataframe library\n",
    "from pandas.io.json import json_normalize\n",
    "\n",
    "import folium # plotting library\n",
    "\n",
    "print('Folium installed')\n",
    "print('Libraries imported.')"
   ]
  },
  {
   "cell_type": "markdown",
   "metadata": {},
   "source": [
    "Foursquare developer credentials, which will be hidden later."
   ]
  },
  {
   "cell_type": "code",
   "execution_count": 2,
   "metadata": {},
   "outputs": [
    {
     "name": "stdout",
     "output_type": "stream",
     "text": [
      "Your credentails:\n",
      "CLIENT_ID: xxxxx\n",
      "CLIENT_SECRET:xxxxx\n"
     ]
    }
   ],
   "source": [
    "CLIENT_ID = 'xxxxx' # your Foursquare ID\n",
    "CLIENT_SECRET = 'xxxxx' # your Foursquare Secret\n",
    "VERSION = '20180604'\n",
    "print('Your credentails:')\n",
    "print('CLIENT_ID: ' + CLIENT_ID)\n",
    "print('CLIENT_SECRET:' + CLIENT_SECRET)"
   ]
  },
  {
   "cell_type": "markdown",
   "metadata": {},
   "source": [
    "Load open source rental data in Singapore provided by government"
   ]
  },
  {
   "cell_type": "code",
   "execution_count": null,
   "metadata": {},
   "outputs": [],
   "source": [
    "rent_df = pd.read_csv('Singapore_median_rent.csv')\n",
    "\n",
    "#examing head of rent csv file \n",
    "rent_df.head()"
   ]
  },
  {
   "cell_type": "markdown",
   "metadata": {},
   "source": [
    "After loading the dataset in and from the head of dataset we do already see some missing values in the median rent column, which will require cleaning and handling of NaN values. These rows are dropped as they are insignificant and do not provide useful information for our analysis."
   ]
  },
  {
   "cell_type": "markdown",
   "metadata": {},
   "source": [
    "## Understanding, Wrangling and Cleaning Data"
   ]
  },
  {
   "cell_type": "markdown",
   "metadata": {},
   "source": [
    "Presenting the code and methods for acquiring the data. Loading the data into appropriate format for analysis. Explaining the process and results\n",
    "\n",
    "Notice that the old statistics may not be relevant in our study as the rental has increased significantly over the years. Hence, we filter the data and only uses information from year 2017 onwards such that the rental price will be closer to the current market price. Executive HDB type is removed as it is irrelevant."
   ]
  },
  {
   "cell_type": "code",
   "execution_count": null,
   "metadata": {},
   "outputs": [],
   "source": [
    "rent_df = rent_df[rent_df['quarter'] >= \"2017-Q1\"]\n",
    "rent_df = rent_df[rent_df['flat_type'] != \"EXEC\"]\n",
    "\n",
    "rent_df.head()"
   ]
  },
  {
   "cell_type": "markdown",
   "metadata": {},
   "source": [
    "Also, notice that in median_rent, it contains non-numerical value which should be excluded in the following section"
   ]
  },
  {
   "cell_type": "code",
   "execution_count": null,
   "metadata": {},
   "outputs": [],
   "source": [
    "rent_df['median_rent'].unique()"
   ]
  },
  {
   "cell_type": "code",
   "execution_count": null,
   "metadata": {},
   "outputs": [],
   "source": [
    "rent_df = rent_df[(rent_df['median_rent'] != \"na\") & (rent_df['median_rent'] != \"-\")]\n",
    "rent_df['median_rent'].unique()"
   ]
  },
  {
   "cell_type": "markdown",
   "metadata": {},
   "source": [
    "For individual, we are more concerned at a single room price. The data comes with HDB flat type that suggests the number of rooms available in the flat, and this information will be used to define the average price per room in that particular flat.\n",
    "\n",
    "Extract number of room from 'flat_type' column"
   ]
  },
  {
   "cell_type": "code",
   "execution_count": null,
   "metadata": {},
   "outputs": [],
   "source": [
    "rent_df['number_of_room'] = [int(flat[0]) for flat in rent_df.flat_type if flat != \"EXEC\"]\n",
    "rent_df.head()"
   ]
  },
  {
   "cell_type": "markdown",
   "metadata": {},
   "source": [
    "Calculate price per room using rental divide by number of rooms"
   ]
  },
  {
   "cell_type": "code",
   "execution_count": null,
   "metadata": {},
   "outputs": [],
   "source": [
    "rent_df['price_per_room'] = rent_df['median_rent'].apply(pd.to_numeric)/rent_df['number_of_room'] \n",
    "rent_df.head(15)"
   ]
  },
  {
   "cell_type": "code",
   "execution_count": null,
   "metadata": {},
   "outputs": [],
   "source": [
    "rent_df.groupby(['flat_type']).mean().sort_values('price_per_room', ascending=True)"
   ]
  },
  {
   "cell_type": "markdown",
   "metadata": {},
   "source": [
    "We can observe that flat_type of higher number of rooms will always result in a cheaper price. Hence, it is advisable for students to group together and rent a HDB of more rooms."
   ]
  },
  {
   "cell_type": "markdown",
   "metadata": {},
   "source": [
    "## Exploring and Visualizing Data"
   ]
  },
  {
   "cell_type": "markdown",
   "metadata": {},
   "source": [
    "Exploring the data by analyzing its statistics and visualizing the values of features and correlations between different features. Explaining the process and the results\n",
    "\n",
    "let's now combine room type in our towns for a rich visualization we can make"
   ]
  },
  {
   "cell_type": "code",
   "execution_count": null,
   "metadata": {},
   "outputs": [],
   "source": [
    "rent_df_grouped = rent_df.groupby(['town']).mean().sort_values('price_per_room', ascending=True).reset_index()\n",
    "rent_df_grouped = rent_df_grouped.drop('number_of_room', axis = 1)\n",
    "rent_df_grouped.head()"
   ]
  },
  {
   "cell_type": "markdown",
   "metadata": {},
   "source": [
    "Annotate the towns with latitude and longitude generated with geolocator library"
   ]
  },
  {
   "cell_type": "code",
   "execution_count": null,
   "metadata": {},
   "outputs": [],
   "source": [
    "geolocator = Nominatim(user_agent=\"foursquare_agent\")\n",
    "\n",
    "lat = []\n",
    "long = []\n",
    "for town in rent_df_grouped.town:\n",
    "    location = geolocator.geocode(town + \", SINGAPORE\")\n",
    "    print(town, location.latitude, location.longitude)\n",
    "    lat.append(location.latitude)\n",
    "    long.append(location.longitude)"
   ]
  },
  {
   "cell_type": "code",
   "execution_count": null,
   "metadata": {},
   "outputs": [],
   "source": [
    "rent_df_grouped['latitude'] = pd.Series(lat)\n",
    "rent_df_grouped['longitude'] = pd.Series(long)\n",
    "rent_df_grouped"
   ]
  },
  {
   "cell_type": "markdown",
   "metadata": {},
   "source": [
    "Good! Now we are ready to generate a choropleth map of Singapore to visualise the average rental price in each town"
   ]
  },
  {
   "cell_type": "code",
   "execution_count": null,
   "metadata": {},
   "outputs": [],
   "source": [
    "venues_map = folium.Map(location=[latitude, longitude], zoom_start=12) # generate Singapore map\n",
    "\n",
    "# generate choropleth map using the rental price of each town in Singapore\n",
    "venues_map.choropleth(\n",
    "    geo_data='Singapore.geojson',\n",
    "    data=rent_df_grouped,\n",
    "    columns=['town', 'price_per_room'],\n",
    "    key_on='feature.properties.Name',\n",
    "    fill_color='YlOrRd', \n",
    "    fill_opacity=0.7, \n",
    "    line_opacity=0.2,\n",
    "    legend_name='Rental price per HDB room in Singapore'\n",
    ")\n",
    "\n",
    "\n",
    "# add the town center as blue circle markers\n",
    "for lat, lng, label in zip(rent_df_grouped.latitude, rent_df_grouped.longitude, rent_df_grouped.town):\n",
    "    folium.CircleMarker(\n",
    "        [lat, lng],\n",
    "        radius=5,\n",
    "        color='blue',\n",
    "        popup=label,\n",
    "        fill = True,\n",
    "        fill_color='blue',\n",
    "        fill_opacity=0.6\n",
    "    ).add_to(venues_map)\n",
    "\n",
    "\n",
    "# display map\n",
    "venues_map"
   ]
  },
  {
   "cell_type": "markdown",
   "metadata": {},
   "source": [
    "Notice from the above map, some points are misplaced perhaps due to inaccruate lat long conversion. The points are 'KALLANG/WHAMPOA' and 'CENTRAL'. Special treatment will be placed onto the particular cell to recalculate its location."
   ]
  },
  {
   "cell_type": "code",
   "execution_count": null,
   "metadata": {},
   "outputs": [],
   "source": [
    "rent_df_grouped.at[21,'town'] = 'KALLANG'\n",
    "\n",
    "location = geolocator.geocode(\"KALLANG, SINGAPORE\")\n",
    "rent_df_grouped.at[21,'latitude'] = location.latitude\n",
    "rent_df_grouped.at[21,'longitude'] = location.longitude"
   ]
  },
  {
   "cell_type": "code",
   "execution_count": null,
   "metadata": {},
   "outputs": [],
   "source": [
    "rent_df_grouped.at[24,'town'] = 'DOWNTOWN CORE'\n",
    "\n",
    "location = geolocator.geocode(\"DOWNTOWN CORE, SINGAPORE\")\n",
    "rent_df_grouped.at[24,'latitude'] = location.latitude\n",
    "rent_df_grouped.at[24,'longitude'] = location.longitude\n",
    "\n",
    "rent_df_grouped"
   ]
  },
  {
   "cell_type": "markdown",
   "metadata": {},
   "source": [
    "Now, regenerate the choropleth map with the new lat long information"
   ]
  },
  {
   "cell_type": "code",
   "execution_count": null,
   "metadata": {},
   "outputs": [],
   "source": [
    "latitude, longitude = 1.35, 103.82\n",
    "sg_map = folium.Map(location=[latitude, longitude], zoom_start=12) # generate Singapore map\n",
    "# generate choropleth map using the rental price of each town in Singapore\n",
    "sg_map.choropleth(\n",
    "    geo_data='Singapore.geojson',\n",
    "    data=rent_df_grouped,\n",
    "    columns=['town', 'price_per_room'],\n",
    "    key_on='feature.properties.Name',\n",
    "    fill_color='YlOrRd', \n",
    "    fill_opacity=0.7, \n",
    "    line_opacity=0.2,\n",
    "    legend_name='Rental price per HDB room in Singapore'\n",
    ")\n",
    "\n",
    "# add the town center as blue circle markers\n",
    "for lat, lng, label in zip(rent_df_grouped.latitude, rent_df_grouped.longitude, rent_df_grouped.town):\n",
    "    folium.CircleMarker(\n",
    "        [lat, lng],\n",
    "        radius=5,\n",
    "        color='blue',\n",
    "        popup=label,\n",
    "        fill = True,\n",
    "        fill_color='blue',\n",
    "        fill_opacity=0.6\n",
    "    ).add_to(sg_map)\n",
    "\n",
    "# display map\n",
    "sg_map"
   ]
  },
  {
   "cell_type": "markdown",
   "metadata": {},
   "source": [
    "We are now able to visualise that the highest rental price town mostly locate in the South region of Singapore. The more outskirt from the central it is, the cheaper the rental price will be! Now we can proceed to explore the restaurant and supermarket in the individual towns."
   ]
  },
  {
   "cell_type": "code",
   "execution_count": null,
   "metadata": {},
   "outputs": [],
   "source": [
    "print(\"Number of towns in the dataframe is %d\" %len(rent_df_grouped))"
   ]
  },
  {
   "cell_type": "markdown",
   "metadata": {},
   "source": [
    "## Exploring the town with Foursquare API"
   ]
  },
  {
   "cell_type": "markdown",
   "metadata": {},
   "source": [
    "Let's see how many supermarkets are located in each town by calling the search query of foursquare API. We design the limit as 100 venues and radius of 2km for each town from their calculated latitude and longitude informations."
   ]
  },
  {
   "cell_type": "code",
   "execution_count": null,
   "metadata": {},
   "outputs": [],
   "source": [
    "search_query = 'supermarket'\n",
    "radius = 2000\n",
    "LIMIT = 100\n",
    "\n",
    "number_of_supermarket = []\n",
    "supermarket_location = {}\n",
    "for lat,lng,town in zip(rent_df_grouped.latitude, rent_df_grouped.longitude, rent_df_grouped.town):\n",
    "    url = 'https://api.foursquare.com/v2/venues/search?client_id={}&client_secret={}&ll={},{}&v={}&query={}&radius={}&limit={}'.format(CLIENT_ID, CLIENT_SECRET, lat, lng, VERSION, search_query, radius,LIMIT)\n",
    "\n",
    "    #call the query\n",
    "    results = requests.get(url).json()\n",
    "\n",
    "    # assign relevant part of JSON to venues\n",
    "    supermarket = results['response']['venues']\n",
    "\n",
    "    # tranform venues into a dataframe\n",
    "    sup_df = json_normalize(supermarket)\n",
    "    \n",
    "    # clean column names by keeping only last term\n",
    "    sup_df.columns = [column.split('.')[-1] for column in sup_df.columns]\n",
    "\n",
    "    #store number of supermarket\n",
    "    number_of_supermarket.append(len(sup_df))\n",
    "    supermarket_location[town] = sup_df[['lat','lng']].values.tolist()"
   ]
  },
  {
   "cell_type": "markdown",
   "metadata": {},
   "source": [
    "Now we can append the number of supermarket in each town into the main datafram"
   ]
  },
  {
   "cell_type": "code",
   "execution_count": null,
   "metadata": {},
   "outputs": [],
   "source": [
    "rent_df_grouped['number_of_supermarket'] = pd.Series(number_of_supermarket)\n",
    "rent_df_grouped.head()"
   ]
  },
  {
   "cell_type": "code",
   "execution_count": null,
   "metadata": {},
   "outputs": [],
   "source": [
    "rent_df_grouped.sort_values('number_of_supermarket', ascending=False)"
   ]
  },
  {
   "cell_type": "markdown",
   "metadata": {},
   "source": [
    "We can also visualise the distribution of supermarket in each town. Now, let's replot the choropleth map."
   ]
  },
  {
   "cell_type": "code",
   "execution_count": null,
   "metadata": {},
   "outputs": [],
   "source": [
    "latitude, longitude = 1.35, 103.82\n",
    "sg_map_w_supermarket = folium.Map(location=[latitude, longitude], zoom_start=12) # generate Singapore map\n",
    "# generate choropleth map using the rental price of each town in Singapore\n",
    "sg_map_w_supermarket.choropleth(\n",
    "    geo_data='Singapore.geojson',\n",
    "    data=rent_df_grouped,\n",
    "    columns=['town', 'price_per_room'],\n",
    "    key_on='feature.properties.Name',\n",
    "    fill_color='YlOrRd', \n",
    "    fill_opacity=0.7, \n",
    "    line_opacity=0.2,\n",
    "    legend_name='Rental price per HDB room in Singapore'\n",
    ")\n",
    "\n",
    "# add the town center as blue circle markers\n",
    "for lat, lng, label in zip(rent_df_grouped.latitude, rent_df_grouped.longitude, rent_df_grouped.town):\n",
    "    folium.CircleMarker(\n",
    "        [lat, lng],\n",
    "        radius=5,\n",
    "        color='blue',\n",
    "        popup=label,\n",
    "        fill = True,\n",
    "        fill_color='blue',\n",
    "        fill_opacity=0.6\n",
    "    ).add_to(sg_map_w_supermarket)\n",
    "\n",
    "# add the supermarket as red circle markers\n",
    "for key,value in supermarket_location.items():\n",
    "    for location in value:\n",
    "        folium.CircleMarker(\n",
    "            [location[0], location[1]],\n",
    "            radius=5,\n",
    "            color='green',\n",
    "            popup= 'supermarket',\n",
    "            fill = False,\n",
    "            fill_color='green',\n",
    "            fill_opacity=0.3\n",
    "    ).add_to(sg_map_w_supermarket)\n",
    "\n",
    "\n",
    "# display map\n",
    "sg_map_w_supermarket"
   ]
  },
  {
   "cell_type": "markdown",
   "metadata": {},
   "source": [
    "Notice that the plotted supermarket marker are not very useful in this sense. However, when one make decision on a specific location, the user can visualise how the supermarket has spreaded in the town and determine which street should him/her look for when finding a place to rent.\n",
    "\n",
    "Repeat the query with restaurant/food using Foursquare API. Instead of looking at the number of restaurant, we are more interested at the variety of restaurant and how affordable it is. As we have limited premium call to examine the venues, for each town we only take a sample of 10 restaurant id."
   ]
  },
  {
   "cell_type": "code",
   "execution_count": null,
   "metadata": {},
   "outputs": [],
   "source": [
    "search_query = 'food'\n",
    "radius = 2000\n",
    "LIMIT = 100\n",
    "\n",
    "food_id = {}\n",
    "\n",
    "for lat,lng,town in zip(rent_df_grouped.latitude, rent_df_grouped.longitude, rent_df_grouped.town):\n",
    "    url = 'https://api.foursquare.com/v2/venues/search?client_id={}&client_secret={}&ll={},{}&v={}&query={}&radius={}&limit={}'.format(CLIENT_ID, CLIENT_SECRET, lat, lng, VERSION, search_query, radius,LIMIT)\n",
    "\n",
    "    #call the query\n",
    "    results = requests.get(url).json()\n",
    "\n",
    "    # assign relevant part of JSON to venues\n",
    "    food = results['response']['venues']\n",
    "\n",
    "    # tranform venues into a dataframe\n",
    "    food_df = json_normalize(food)\n",
    "    \n",
    "    # clean column names by keeping only last term\n",
    "    food_df.columns = [column.split('.')[-1] for column in food_df.columns]\n",
    "\n",
    "    #store 10 restaurant id\n",
    "    food_id[town] = food_df[['id']].values.tolist()[:10]"
   ]
  },
  {
   "cell_type": "markdown",
   "metadata": {},
   "source": [
    "Query the details of venue using the id stored earlier. Store the result in new dictionary"
   ]
  },
  {
   "cell_type": "code",
   "execution_count": null,
   "metadata": {},
   "outputs": [],
   "source": [
    "venue_detail = {}\n",
    "for key,value in food_id.items():\n",
    "    lst = []\n",
    "    for id in value:\n",
    "        venue_id = id[0]\n",
    "        url = 'https://api.foursquare.com/v2/venues/{}?client_id={}&client_secret={}&v={}'.format(venue_id, CLIENT_ID, CLIENT_SECRET, VERSION)\n",
    "        result = requests.get(url).json()\n",
    "        lst.append(result)\n",
    "        \n",
    "    venue_detail[key] = lst"
   ]
  },
  {
   "cell_type": "markdown",
   "metadata": {},
   "source": [
    "Due to limited premium call, we only able to examine up to 5 towns of similar rental price range, which are SEMBAWANG, PUNGGOL, CHUA CHO KANG, WOODLANDS and SENGKANG. Assuming the weightage of price, variety and rating is equal, we can determine the food_worthiness of each town by taking their averages."
   ]
  },
  {
   "cell_type": "code",
   "execution_count": null,
   "metadata": {},
   "outputs": [],
   "source": [
    "food_worthiness = []\n",
    "for key,value in venue_detail.items():\n",
    "    price_list  =[]\n",
    "    rating_list =[]\n",
    "    category_set = set()\n",
    "    for result in value:\n",
    "        try:\n",
    "            price = result['response']['venue']['price']['tier']\n",
    "            price_list.append(price) \n",
    "        except:\n",
    "\n",
    "            try:\n",
    "                rating = result['response']['venue']['rating']\n",
    "                rating_list.append(rating)\n",
    "            except:\n",
    "                try: \n",
    "                    category_set.add(result['response']['venue']['categories'][0]['name'])\n",
    "                except:\n",
    "                    pass\n",
    "\n",
    "\n",
    "\n",
    "    food_worthiness.append(((sum(price_list)/len(price_list)) + (sum(rating_list)/len(rating_list)) + (len(category_set)))/3)\n",
    "    if len(food_worthiness) ==5:\n",
    "        break"
   ]
  },
  {
   "cell_type": "markdown",
   "metadata": {},
   "source": [
    "Add food_worthiness column into the 5 towns"
   ]
  },
  {
   "cell_type": "code",
   "execution_count": null,
   "metadata": {},
   "outputs": [],
   "source": [
    "rent_slice_df_grouped = rent_df_grouped.head(5)\n",
    "rent_slice_df_grouped['food_worthiness'] = pd.Series(food_worthiness)\n",
    "rent_slice_df_grouped"
   ]
  },
  {
   "cell_type": "markdown",
   "metadata": {},
   "source": [
    "Normalised the number of supermarket and food_worthiness and generate a last column called decision factor"
   ]
  },
  {
   "cell_type": "code",
   "execution_count": null,
   "metadata": {},
   "outputs": [],
   "source": [
    "supermarket_index = (rent_slice_df_grouped['number_of_supermarket'] - min(rent_slice_df_grouped['number_of_supermarket']))/(max(rent_slice_df_grouped['number_of_supermarket'])- min(rent_slice_df_grouped['number_of_supermarket']))\n",
    "\n",
    "food_index = (rent_slice_df_grouped['food_worthiness'] - min(rent_slice_df_grouped['food_worthiness']))/(max(rent_slice_df_grouped['food_worthiness'])- min(rent_slice_df_grouped['food_worthiness']))\n",
    "\n",
    "rent_slice_df_grouped['decision_factor'] = supermarket_index+food_index\n",
    "rent_slice_df_grouped.sort_values('decision_factor',ascending=False)"
   ]
  },
  {
   "cell_type": "markdown",
   "metadata": {},
   "source": [
    "Hence, the winner is PUNNGOL who have high number of supermarket and high food worthiness index!"
   ]
  },
  {
   "cell_type": "code",
   "execution_count": null,
   "metadata": {},
   "outputs": [],
   "source": [
    "rent_slice_df_grouped.plot(kind='bar', x= 'town',y='decision_factor')"
   ]
  },
  {
   "cell_type": "code",
   "execution_count": null,
   "metadata": {},
   "outputs": [],
   "source": [
    "latitude, longitude = 1.35, 103.82\n",
    "sg_map_winner = folium.Map(location=[latitude, longitude], zoom_start=12) # generate Singapore map\n",
    "# generate choropleth map using the rental price of each town in Singapore\n",
    "sg_map_winner.choropleth(\n",
    "    geo_data='Singapore.geojson',\n",
    "    data=rent_slice_df_grouped,\n",
    "    columns=['town', 'decision_factor'],\n",
    "    key_on='feature.properties.Name',\n",
    "    fill_color='YlOrRd', \n",
    "    fill_opacity=0.7, \n",
    "    line_opacity=0.2,\n",
    "    legend_name='Decision index of 5 towns in Singapore'\n",
    ")\n",
    "\n",
    "# add the town center as blue circle markers\n",
    "for lat, lng, label in zip(rent_slice_df_grouped.latitude, rent_slice_df_grouped.longitude, rent_slice_df_grouped.town):\n",
    "    folium.CircleMarker(\n",
    "        [lat, lng],\n",
    "        radius=5,\n",
    "        color='blue',\n",
    "        popup=label,\n",
    "        fill = True,\n",
    "        fill_color='blue',\n",
    "        fill_opacity=0.6\n",
    "    ).add_to(sg_map_winner)\n",
    "\n",
    "\n",
    "# display map\n",
    "sg_map_winner"
   ]
  }
 ],
 "metadata": {
  "kernelspec": {
   "display_name": "Python 3",
   "language": "python",
   "name": "python3"
  },
  "language_info": {
   "codemirror_mode": {
    "name": "ipython",
    "version": 3
   },
   "file_extension": ".py",
   "mimetype": "text/x-python",
   "name": "python",
   "nbconvert_exporter": "python",
   "pygments_lexer": "ipython3",
   "version": "3.7.6"
  }
 },
 "nbformat": 4,
 "nbformat_minor": 4
}
